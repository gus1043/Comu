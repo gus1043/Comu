{
 "cells": [
  {
   "cell_type": "code",
   "execution_count": 16,
   "metadata": {},
   "outputs": [
    {
     "name": "stderr",
     "output_type": "stream",
     "text": [
      "<ipython-input-16-49f2aeb0b7f4>:4: DeprecationWarning: executable_path has been deprecated, please pass in a Service object\n",
      "  driver = webdriver.Chrome('./chromedriver')\n"
     ]
    },
    {
     "name": "stdout",
     "output_type": "stream",
     "text": [
      "번역 할 영단어를 입력하세요. : hi\n"
     ]
    },
    {
     "name": "stderr",
     "output_type": "stream",
     "text": [
      "<ipython-input-16-49f2aeb0b7f4>:12: DeprecationWarning: find_element_by_* commands are deprecated. Please use find_element() instead\n",
      "  form = driver.find_element_by_css_selector(\"textarea#txtSource\")\n",
      "<ipython-input-16-49f2aeb0b7f4>:15: DeprecationWarning: find_element_by_* commands are deprecated. Please use find_element() instead\n",
      "  button = driver.find_element_by_css_selector(\"button#btnTranslate\")\n",
      "<ipython-input-16-49f2aeb0b7f4>:20: DeprecationWarning: find_element_by_* commands are deprecated. Please use find_element() instead\n",
      "  result = driver.find_element_by_css_selector(\"div#txtTarget\")\n"
     ]
    },
    {
     "name": "stdout",
     "output_type": "stream",
     "text": [
      "hi -> 안녕\n"
     ]
    }
   ],
   "source": [
    "from selenium import webdriver\n",
    "import time\n",
    "\n",
    "driver = webdriver.Chrome('./chromedriver')\n",
    "\n",
    "URL = \"https://papago.naver.com/\"\n",
    "driver.get(URL)\n",
    "time.sleep(3)\n",
    "\n",
    "question = input(\"번역 할 영단어를 입력하세요. : \")\n",
    "\n",
    "form = driver.find_element_by_css_selector(\"textarea#txtSource\")\n",
    "form.send_keys(question)\n",
    "\n",
    "button = driver.find_element_by_css_selector(\"button#btnTranslate\")\n",
    "button.click()\n",
    "time.sleep(2)\n",
    "           \n",
    "           \n",
    "result = driver.find_element_by_css_selector(\"div#txtTarget\")\n",
    "print(question, \"->\", result.text)"
   ]
  },
  {
   "cell_type": "code",
   "execution_count": 21,
   "metadata": {},
   "outputs": [
    {
     "name": "stderr",
     "output_type": "stream",
     "text": [
      "<ipython-input-21-e8e94240b6a6>:4: DeprecationWarning: executable_path has been deprecated, please pass in a Service object\n",
      "  driver = webdriver.Chrome('./chromedriver')\n"
     ]
    },
    {
     "name": "stdout",
     "output_type": "stream",
     "text": [
      "번역 할 영단어를 입력하세요. : hi\n"
     ]
    },
    {
     "name": "stderr",
     "output_type": "stream",
     "text": [
      "<ipython-input-21-e8e94240b6a6>:15: DeprecationWarning: find_element_by_* commands are deprecated. Please use find_element() instead\n",
      "  form = driver.find_element_by_css_selector(\"textarea#txtSource\")\n",
      "<ipython-input-21-e8e94240b6a6>:18: DeprecationWarning: find_element_by_* commands are deprecated. Please use find_element() instead\n",
      "  button = driver.find_element_by_css_selector(\"button#btnTranslate\")\n",
      "<ipython-input-21-e8e94240b6a6>:22: DeprecationWarning: find_element_by_* commands are deprecated. Please use find_element() instead\n",
      "  result = driver.find_element_by_css_selector(\"div#txtTarget\")\n"
     ]
    },
    {
     "name": "stdout",
     "output_type": "stream",
     "text": [
      "번역 할 영단어를 입력하세요. : zizi\n",
      "번역 할 영단어를 입력하세요. : 0\n",
      "{'hi': '안녕', 'zizi': '회식자'}\n"
     ]
    }
   ],
   "source": [
    "from selenium import webdriver\n",
    "import time\n",
    "\n",
    "driver = webdriver.Chrome('./chromedriver')\n",
    "\n",
    "URL = \"https://papago.naver.com/\"\n",
    "driver.get(URL)\n",
    "time.sleep(3)\n",
    "dic = {}\n",
    "while (1):\n",
    "    question = input(\"번역 할 영단어를 입력하세요. : \")\n",
    "    if question==\"0\":\n",
    "        break\n",
    "\n",
    "    form = driver.find_element_by_css_selector(\"textarea#txtSource\")\n",
    "    form.send_keys(question)\n",
    "\n",
    "    button = driver.find_element_by_css_selector(\"button#btnTranslate\")\n",
    "    button.click()\n",
    "    time.sleep(2)              \n",
    "           \n",
    "    result = driver.find_element_by_css_selector(\"div#txtTarget\")\n",
    "    dic[question]=(result.text)\n",
    "    \n",
    "print(dic)\n"
   ]
  },
  {
   "cell_type": "code",
   "execution_count": null,
   "metadata": {},
   "outputs": [],
   "source": []
  }
 ],
 "metadata": {
  "kernelspec": {
   "display_name": "Python 3",
   "language": "python",
   "name": "python3"
  },
  "language_info": {
   "codemirror_mode": {
    "name": "ipython",
    "version": 3
   },
   "file_extension": ".py",
   "mimetype": "text/x-python",
   "name": "python",
   "nbconvert_exporter": "python",
   "pygments_lexer": "ipython3",
   "version": "3.8.5"
  }
 },
 "nbformat": 4,
 "nbformat_minor": 4
}
