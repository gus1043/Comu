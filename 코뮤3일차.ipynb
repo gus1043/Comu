{
 "cells": [
  {
   "cell_type": "code",
   "execution_count": 2,
   "metadata": {},
   "outputs": [
    {
     "name": "stdout",
     "output_type": "stream",
     "text": [
      "reqest installed!\n"
     ]
    }
   ],
   "source": [
    "import requests\n",
    "\n",
    "print(\"reqest installed!\")"
   ]
  },
  {
   "cell_type": "code",
   "execution_count": 3,
   "metadata": {},
   "outputs": [
    {
     "name": "stdout",
     "output_type": "stream",
     "text": [
      "beautifulsoup4 installed!\n"
     ]
    }
   ],
   "source": [
    "import bs4\n",
    "\n",
    "print(\"beautifulsoup4 installed!\")"
   ]
  },
  {
   "cell_type": "code",
   "execution_count": 7,
   "metadata": {},
   "outputs": [
    {
     "name": "stdout",
     "output_type": "stream",
     "text": [
      "월요 웹툰\n",
      "1. 쇼미더럭키짱!\n",
      "2. 참교육\n",
      "3. 신의 탑\n",
      "4. 2022 서브병에 빠지다!\n",
      "5. 소녀의 세계\n",
      "\n",
      "화요 웹툰\n",
      "1. 쇼미더럭키짱!\n",
      "2. 김부장\n",
      "3. 여신강림\n",
      "4. 2022 서브병에 빠지다!\n",
      "5. 1을 줄게\n",
      "\n",
      "수요 웹툰\n",
      "1. 쇼미더럭키짱!\n",
      "2. 전지적 독자 시점\n",
      "3. 조조코믹스\n",
      "4. 헬퍼 2 : 킬베로스\n",
      "5. 화산귀환\n",
      "\n",
      "목요 웹툰\n",
      "1. 쇼미더럭키짱!\n",
      "2. 독립일기\n",
      "3. 연애혁명\n",
      "4. 더 복서\n",
      "5. 나노마신\n",
      "\n",
      "금요 웹툰\n",
      "1. 쇼미더럭키짱!\n",
      "2. 외모지상주의\n",
      "3. 나 혼자 만렙 뉴비\n",
      "4. 2022 서브병에 빠지다!\n",
      "5. 내과 박원장\n",
      "\n",
      "토요 웹툰\n",
      "1. 조조코믹스\n",
      "2. 2022 서브병에 빠지다!\n",
      "3. 취사병 전설이 되다\n",
      "4. 프리드로우\n",
      "5. 먹는 인생\n",
      "\n",
      "일요 웹툰\n",
      "1. 독립일기\n",
      "2. 싸움독학\n",
      "3. 입학용병\n",
      "4. 존망코인\n",
      "5. 약한영웅\n",
      "\n"
     ]
    }
   ],
   "source": [
    "import requests\n",
    "import bs4\n",
    "\n",
    "req = requests.get(\"https://comic.naver.com/webtoon/weekday\")\n",
    "#print(req.text)\n",
    "\n",
    "html = bs4.BeautifulSoup(req.text, 'html.parser')\n",
    "#print(html)\n",
    "\n",
    "columns = html.find_all('div', {'class':'col_inner'})\n",
    "\n",
    "for column in columns:\n",
    "    day = column.find('h4').text\n",
    "    webtoons = column.find_all('a', {'class' : 'title'})[:5]\n",
    "    print(day)\n",
    "    for index in range(len(webtoons)):\n",
    "        title = webtoons[index].text\n",
    "        print(f\"{index+1}. {title}\")\n",
    "    print()\n"
   ]
  },
  {
   "cell_type": "code",
   "execution_count": null,
   "metadata": {},
   "outputs": [],
   "source": []
  },
  {
   "cell_type": "code",
   "execution_count": null,
   "metadata": {},
   "outputs": [],
   "source": []
  }
 ],
 "metadata": {
  "kernelspec": {
   "display_name": "Python 3",
   "language": "python",
   "name": "python3"
  },
  "language_info": {
   "codemirror_mode": {
    "name": "ipython",
    "version": 3
   },
   "file_extension": ".py",
   "mimetype": "text/x-python",
   "name": "python",
   "nbconvert_exporter": "python",
   "pygments_lexer": "ipython3",
   "version": "3.8.5"
  }
 },
 "nbformat": 4,
 "nbformat_minor": 4
}
