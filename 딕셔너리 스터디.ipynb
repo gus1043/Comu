{
 "cells": [
  {
   "cell_type": "code",
   "execution_count": 12,
   "metadata": {},
   "outputs": [
    {
     "name": "stdout",
     "output_type": "stream",
     "text": [
      "추가할 사람의 수 :2\n",
      "이름: 지수\n",
      "나이: 21\n",
      "이름: 지아\n",
      "나이: 25\n",
      "{'지수': '21', '지아': '25'}\n",
      "특정한 한 사람의 이름지아\n",
      "25\n"
     ]
    }
   ],
   "source": [
    "age={}\n",
    "n=int(input(\"추가할 사람의 수 :\"))\n",
    "def add_age(n):\n",
    "    for i in range(n):\n",
    "        name=input(\"이름: \")\n",
    "        age1=input(\"나이: \")\n",
    "        age[name]=age1\n",
    "    return age\n",
    "\n",
    "print(add_age(n))\n",
    "x=input(\"특정한 한 사람의 이름: \")\n",
    "print(age[x])"
   ]
  },
  {
   "cell_type": "code",
   "execution_count": 44,
   "metadata": {},
   "outputs": [
    {
     "name": "stdout",
     "output_type": "stream",
     "text": [
      "추가할 사람의 수 :2\n",
      "이름: 지아\n",
      "나이: 21\n",
      "이름: 지수\n",
      "나이: 87\n",
      "{'지아': '20대 초반', '지수': '80대 후반'}\n",
      "특정 사람의 이름: 지수\n",
      "{'지수': '80대 후반'}\n"
     ]
    }
   ],
   "source": [
    "age={}\n",
    "n=int(input(\"추가할 사람의 수 :\"))\n",
    "def add_age(n):\n",
    "    for i in range(n):\n",
    "        name=input(\"이름: \")\n",
    "        age1=input(\"나이: \")\n",
    "        age[name]=age1\n",
    "    return age\n",
    "\n",
    "def translate_age(dic1):\n",
    "    for name, age1 in age.items():\n",
    "        if 0<=int(str(age1)[-1])<=2:\n",
    "            age[name]=str(age1)[0]+\"0대 초반\"\n",
    "        elif 3<=int(str(age1)[-1])<=6:\n",
    "            age[name]=str(age1)[0]+\"0대 중반\"\n",
    "        else :\n",
    "            age[name]=str(age1)[0]+\"0대 후반\"\n",
    "    return age\n",
    "\n",
    "\n",
    "dic1=add_age(n)\n",
    "print(translate_age(dic1))\n",
    "x=input(\"특정 사람의 이름: \")    \n",
    "dic={}\n",
    "name=x\n",
    "dic[x]=age[x]\n",
    "print(dic)"
   ]
  },
  {
   "cell_type": "code",
   "execution_count": 45,
   "metadata": {},
   "outputs": [
    {
     "name": "stdout",
     "output_type": "stream",
     "text": [
      "Input the number of people: 2\n",
      "Input name: 지아\n",
      "input age: 25\n",
      "Input name: 지수\n",
      "input age: 28\n",
      "<function add_age at 0x0000026AA436C670>\n",
      "Input search_name: 지아\n",
      "25\n",
      "Input name: 지아\n",
      "지아 : 20대 중반\n"
     ]
    }
   ],
   "source": [
    "def add_age(n):\n",
    "    for i in range(n):\n",
    "        name = input(\"Input name: \")\n",
    "        age = int(input(\"input age: \"))\n",
    "        name_age[name] = age\n",
    "\n",
    "def age_print(name):\n",
    "    if name_age[name]>=20 and name_age[name]<23:\n",
    "        print(name, \": 20대 초반\")\n",
    "    elif name_age[name]>=23 and name_age[name]<27:\n",
    "        print(name, \": 20대 중반\")\n",
    "    else:\n",
    "        print(name, \": 20대 후반\")\n",
    "        \n",
    "\n",
    "name_age = {}\n",
    "add_age(int(input(\"Input the number of people: \")))\n",
    "print(add_age)\n",
    "print(name_age[input(\"Input search_name: \")])\n",
    "\n",
    "age_print(input(\"Input name: \"))"
   ]
  }
 ],
 "metadata": {
  "kernelspec": {
   "display_name": "Python 3",
   "language": "python",
   "name": "python3"
  },
  "language_info": {
   "codemirror_mode": {
    "name": "ipython",
    "version": 3
   },
   "file_extension": ".py",
   "mimetype": "text/x-python",
   "name": "python",
   "nbconvert_exporter": "python",
   "pygments_lexer": "ipython3",
   "version": "3.8.5"
  }
 },
 "nbformat": 4,
 "nbformat_minor": 4
}
