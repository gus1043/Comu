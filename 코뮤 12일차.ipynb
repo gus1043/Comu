{
 "cells": [
  {
   "cell_type": "code",
   "execution_count": 12,
   "metadata": {},
   "outputs": [],
   "source": [
    "import csv\n",
    "\n",
    "# 옵션 <newline = ''> 추가\n",
    "f = open('./example1.csv', 'w', newline = '')\n",
    "\n",
    "wtr = csv.writer(f)\n",
    "\n",
    "wtr.writerow(['이름', '나이', '언어'])\n",
    "\n",
    "all_name = ['길동', '철수', '영희']\n",
    "all_age = [10, 20, 30]\n",
    "all_language = ['파이썬', 'C', '자바']\n",
    "\n",
    "for i in range(3):\n",
    "    name = all_name[i]\n",
    "    age = all_age[i]\n",
    "    language = all_language[i]\n",
    "    wtr.writerow([name, age, language])\n",
    "\n"
   ]
  },
  {
   "cell_type": "code",
   "execution_count": 10,
   "metadata": {},
   "outputs": [
    {
     "ename": "IndentationError",
     "evalue": "expected an indented block (<ipython-input-10-ff80469ad14f>, line 8)",
     "output_type": "error",
     "traceback": [
      "\u001b[1;36m  File \u001b[1;32m\"<ipython-input-10-ff80469ad14f>\"\u001b[1;36m, line \u001b[1;32m8\u001b[0m\n\u001b[1;33m    print(row)\u001b[0m\n\u001b[1;37m    ^\u001b[0m\n\u001b[1;31mIndentationError\u001b[0m\u001b[1;31m:\u001b[0m expected an indented block\n"
     ]
    }
   ],
   "source": [
    "import csv\n",
    "\n",
    "f = open('./example.csv', 'r')\n",
    "\n",
    "rdr = csv.reader(f)\n",
    "\n",
    "for row in rdr:\n",
    "print(row)\n",
    "\n",
    "f.close()"
   ]
  },
  {
   "cell_type": "code",
   "execution_count": 11,
   "metadata": {},
   "outputs": [],
   "source": [
    "import csv\n",
    "\n",
    "# 추가 모드 옵션 'a' 사용\n",
    "f = open('./example.csv', 'a', newline = '')\n",
    "\n",
    "wtr = csv.writer(f)\n",
    "\n",
    "wtr.writerow(['바둑', 40, '파이썬'])\n",
    "wtr.writerow(['오목', 50, 'C'])\n",
    "\n",
    "f.close()"
   ]
  },
  {
   "cell_type": "code",
   "execution_count": null,
   "metadata": {},
   "outputs": [],
   "source": []
  },
  {
   "cell_type": "code",
   "execution_count": null,
   "metadata": {},
   "outputs": [],
   "source": []
  },
  {
   "cell_type": "code",
   "execution_count": null,
   "metadata": {},
   "outputs": [],
   "source": []
  }
 ],
 "metadata": {
  "kernelspec": {
   "display_name": "Python 3",
   "language": "python",
   "name": "python3"
  },
  "language_info": {
   "codemirror_mode": {
    "name": "ipython",
    "version": 3
   },
   "file_extension": ".py",
   "mimetype": "text/x-python",
   "name": "python",
   "nbconvert_exporter": "python",
   "pygments_lexer": "ipython3",
   "version": "3.8.5"
  }
 },
 "nbformat": 4,
 "nbformat_minor": 4
}
