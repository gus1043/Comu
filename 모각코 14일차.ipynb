{
 "cells": [
  {
   "cell_type": "code",
   "execution_count": 16,
   "metadata": {},
   "outputs": [
    {
     "name": "stdout",
     "output_type": "stream",
     "text": [
      "24시의 기준의 시간을 입력해주세요 :15:28\n",
      "15\n",
      "변환시간: 3 : 28 PM\n"
     ]
    }
   ],
   "source": [
    "time=input(\"24시의 기준의 시간을 입력해주세요 :\")\n",
    "stop=0\n",
    "for i in time:\n",
    "    stop+=1\n",
    "    if i==\":\":\n",
    "        break\n",
    "        \n",
    "print(time[:stop-1])\n",
    "\n",
    "if 12<int(time[:stop-1])<24:\n",
    "    print(\"변환시간:\", int(time[:stop-1])-12,':', time[stop:], \"PM\")\n",
    "elif int(time[:stop-1])==12:\n",
    "    print(\"변환시간:\", time, \"PM\")\n",
    "elif int(time[:stop-1])==24:\n",
    "    print(\"변환시간:\", int(time[:stop-1])-24,':', time[stop:], \"AM\")\n",
    "else:\n",
    "    print(\"변환시간:\", time, \"AM\")"
   ]
  },
  {
   "cell_type": "code",
   "execution_count": 19,
   "metadata": {},
   "outputs": [
    {
     "name": "stdout",
     "output_type": "stream",
     "text": [
      "숫자를 입력하세요: 11\n",
      "숫자를 입력하세요: 88\n",
      "숫자를 입력하세요: 55\n",
      "숫자를 입력하세요: 22\n",
      "숫자를 입력하세요: 44\n",
      "[11, 22, 44, 55, 88]\n"
     ]
    }
   ],
   "source": [
    "list=[]\n",
    "cnt=5\n",
    "while cnt>0:\n",
    "    cnt-=1\n",
    "    num=int(input(\"숫자를 입력하세요: \"))\n",
    "    list.append(num)\n",
    "            \n",
    "for i in list:\n",
    "    j=0\n",
    "    while j < len(list)-1:\n",
    "        if list[j]>list[j+1]:\n",
    "            temp=list[j]\n",
    "            list[j]=list[j+1]\n",
    "            list[j+1]=temp\n",
    "        j+=1\n",
    "print(list)"
   ]
  },
  {
   "cell_type": "code",
   "execution_count": null,
   "metadata": {},
   "outputs": [],
   "source": []
  },
  {
   "cell_type": "code",
   "execution_count": null,
   "metadata": {},
   "outputs": [],
   "source": []
  },
  {
   "cell_type": "code",
   "execution_count": null,
   "metadata": {},
   "outputs": [],
   "source": []
  },
  {
   "cell_type": "code",
   "execution_count": null,
   "metadata": {},
   "outputs": [],
   "source": []
  },
  {
   "cell_type": "code",
   "execution_count": null,
   "metadata": {},
   "outputs": [],
   "source": []
  },
  {
   "cell_type": "code",
   "execution_count": null,
   "metadata": {},
   "outputs": [],
   "source": []
  },
  {
   "cell_type": "code",
   "execution_count": null,
   "metadata": {},
   "outputs": [],
   "source": []
  },
  {
   "cell_type": "code",
   "execution_count": null,
   "metadata": {},
   "outputs": [],
   "source": []
  },
  {
   "cell_type": "code",
   "execution_count": null,
   "metadata": {},
   "outputs": [],
   "source": []
  },
  {
   "cell_type": "code",
   "execution_count": null,
   "metadata": {},
   "outputs": [],
   "source": []
  },
  {
   "cell_type": "code",
   "execution_count": null,
   "metadata": {},
   "outputs": [],
   "source": []
  },
  {
   "cell_type": "code",
   "execution_count": null,
   "metadata": {},
   "outputs": [],
   "source": []
  },
  {
   "cell_type": "code",
   "execution_count": null,
   "metadata": {},
   "outputs": [],
   "source": []
  },
  {
   "cell_type": "code",
   "execution_count": null,
   "metadata": {},
   "outputs": [],
   "source": []
  },
  {
   "cell_type": "code",
   "execution_count": null,
   "metadata": {},
   "outputs": [],
   "source": []
  },
  {
   "cell_type": "code",
   "execution_count": null,
   "metadata": {},
   "outputs": [],
   "source": []
  }
 ],
 "metadata": {
  "kernelspec": {
   "display_name": "Python 3",
   "language": "python",
   "name": "python3"
  },
  "language_info": {
   "codemirror_mode": {
    "name": "ipython",
    "version": 3
   },
   "file_extension": ".py",
   "mimetype": "text/x-python",
   "name": "python",
   "nbconvert_exporter": "python",
   "pygments_lexer": "ipython3",
   "version": "3.8.5"
  }
 },
 "nbformat": 4,
 "nbformat_minor": 4
}
