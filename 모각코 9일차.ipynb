{
 "cells": [
  {
   "cell_type": "code",
   "execution_count": 17,
   "metadata": {},
   "outputs": [
    {
     "name": "stdout",
     "output_type": "stream",
     "text": [
      "숫자를 입력해주세요: 6\n",
      "몇 번째 약수를 알고 싶은지 입력해주세요: 2\n",
      "6의 2번째 약수는 2 입니다.\n"
     ]
    }
   ],
   "source": [
    "x=int(input(\"숫자를 입력해주세요: \"))\n",
    "num=int(input(\"몇 번째 약수를 알고 싶은지 입력해주세요: \"))\n",
    "list=[]\n",
    "\n",
    "for i in range(1,x+1):\n",
    "    if x%i==0:\n",
    "        list.append(i)\n",
    "\n",
    "if num<len(list):\n",
    "    print(str(x)+\"의\",str(num)+\"번째 약수는\", list[num-1],\"입니다.\")\n",
    "else:\n",
    "    print(\"입력하신 숫자 만큼의 약수가 존재하지 않습니다.\")"
   ]
  },
  {
   "cell_type": "code",
   "execution_count": 22,
   "metadata": {
    "scrolled": true
   },
   "outputs": [
    {
     "name": "stdout",
     "output_type": "stream",
     "text": [
      "총 과목의 수를 입력해주세요:5\n",
      "95\n",
      "A\n",
      "85\n",
      "B\n",
      "75\n",
      "C\n",
      "65\n",
      "D\n",
      "45\n",
      "F\n",
      "총 과목의 평균은 73.0점 입니다.\n"
     ]
    }
   ],
   "source": [
    "cnt=int(input(\"총 과목의 수를 입력해주세요:\"))\n",
    "n=cnt\n",
    "list=[]\n",
    "while cnt>0:\n",
    "    x=int(input(\"\"))\n",
    "    if x<0 or x>100:\n",
    "        print(\"다시입력하세요: \")\n",
    "    elif 90<=x<=100:\n",
    "        print(\"A\")\n",
    "        list.append(x)\n",
    "        cnt-=1\n",
    "    elif 80<=x<90:\n",
    "        print(\"B\")\n",
    "        list.append(x)\n",
    "        cnt-=1\n",
    "    elif 70<=x<80:\n",
    "        print(\"C\")\n",
    "        list.append(x)\n",
    "        cnt-=1\n",
    "    elif 60<=x<70:\n",
    "        print(\"D\")\n",
    "        list.append(x)\n",
    "        cnt-=1\n",
    "    else:\n",
    "        print(\"F\")\n",
    "        list.append(x)\n",
    "        cnt-=1\n",
    "        \n",
    "\n",
    "print(\"총 과목의 평균은\", str(sum(list)/n)+\"점 입니다.\")    "
   ]
  },
  {
   "cell_type": "code",
   "execution_count": null,
   "metadata": {},
   "outputs": [],
   "source": []
  },
  {
   "cell_type": "code",
   "execution_count": null,
   "metadata": {},
   "outputs": [],
   "source": []
  }
 ],
 "metadata": {
  "kernelspec": {
   "display_name": "Python 3",
   "language": "python",
   "name": "python3"
  },
  "language_info": {
   "codemirror_mode": {
    "name": "ipython",
    "version": 3
   },
   "file_extension": ".py",
   "mimetype": "text/x-python",
   "name": "python",
   "nbconvert_exporter": "python",
   "pygments_lexer": "ipython3",
   "version": "3.8.5"
  }
 },
 "nbformat": 4,
 "nbformat_minor": 4
}
