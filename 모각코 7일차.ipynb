{
 "cells": [
  {
   "cell_type": "code",
   "execution_count": 5,
   "metadata": {},
   "outputs": [
    {
     "name": "stdout",
     "output_type": "stream",
     "text": [
      "word\n",
      "['d', 'o', 'r', 'w']\n"
     ]
    }
   ],
   "source": [
    "x= input(\"\")\n",
    "list=[]\n",
    "for i in x:\n",
    "    list.append(i)\n",
    "    \n",
    "list.sort()\n",
    "print(list)"
   ]
  },
  {
   "cell_type": "code",
   "execution_count": 36,
   "metadata": {},
   "outputs": [
    {
     "name": "stdout",
     "output_type": "stream",
     "text": [
      "======음료수 목록======\n",
      " 물           700원\n",
      " 콜라         1000원\n",
      " 사이다       1000원\n",
      " 과일 주스    800원\n",
      "=======================\n",
      "소지하고 계신 돈의 액수를 입력해주세요: 800\n",
      "마시고 싶은 음료를 입력해주세요:물\n",
      "물의 가격은 700원 입니다\n",
      "주문이 완료되었습니다.\n",
      "잔액은 100 입니다.\n"
     ]
    }
   ],
   "source": [
    "print(\"======음료수 목록======\\n 물           700원\\n 콜라         1000원\\n 사이다       1000원\\n 과일 주스    800원\\n=======================\")\n",
    "dic={\"물\":5 , \"콜라\":8, \"사이다\":6, \"과일주스\":14}\n",
    "\n",
    "coin=int(input(\"소지하고 계신 돈의 액수를 입력해주세요: \"))\n",
    "drink=input(\"마시고 싶은 음료를 입력해주세요:\")\n",
    "\n",
    "while dic[drink]>0:\n",
    "    if drink==\"물\":\n",
    "        print(\"물의 가격은 700원 입니다\")\n",
    "        if coin>=700:\n",
    "            print(\"주문이 완료되었습니다.\")\n",
    "            print(\"잔액은\",coin-700,\"입니다.\")\n",
    "            break\n",
    "        else: \n",
    "            print(\"돈이 부족합니다.\")\n",
    "    elif drink==\"콜라\":\n",
    "        print(\"콜라의 가격은 1000원 입니다\")\n",
    "        if coin>=1000:\n",
    "            print(\"주문이 완료되었습니다.\")\n",
    "            print(\"잔액은\",coin-1000,\"입니다.\")\n",
    "            break\n",
    "        else: \n",
    "            print(\"돈이 부족합니다.\")\n",
    "            break\n",
    "    elif drink==\"사이다\":\n",
    "        print(\"사이다의 가격은 1000원 입니다\")\n",
    "        if coin>=1000:\n",
    "            print(\"주문이 완료되었습니다.\")\n",
    "            print(\"잔액은\",coin-1000,\"입니다.\")\n",
    "            break\n",
    "        else: \n",
    "            print(\"돈이 부족합니다.\")\n",
    "            break\n",
    "    elif drink==\"과일주스\":\n",
    "        print(\"과일 주스의 가격은 800원 입니다\")\n",
    "        if coin>=800:\n",
    "            print(\"주문이 완료되었습니다.\")\n",
    "            print(\"잔액은\",coin-800,\"입니다.\")\n",
    "            break\n",
    "        else: \n",
    "            print(\"돈이 부족합니다.\")\n",
    "            break\n",
    "            \n",
    "if dic[drink]==0:\n",
    "    print(\"현재 해당 음료는 품절 상태입니다.\")"
   ]
  },
  {
   "cell_type": "code",
   "execution_count": null,
   "metadata": {},
   "outputs": [],
   "source": []
  },
  {
   "cell_type": "code",
   "execution_count": null,
   "metadata": {},
   "outputs": [],
   "source": []
  },
  {
   "cell_type": "code",
   "execution_count": null,
   "metadata": {},
   "outputs": [],
   "source": []
  },
  {
   "cell_type": "code",
   "execution_count": null,
   "metadata": {},
   "outputs": [],
   "source": []
  },
  {
   "cell_type": "code",
   "execution_count": null,
   "metadata": {},
   "outputs": [],
   "source": []
  },
  {
   "cell_type": "code",
   "execution_count": null,
   "metadata": {},
   "outputs": [],
   "source": []
  },
  {
   "cell_type": "code",
   "execution_count": null,
   "metadata": {},
   "outputs": [],
   "source": []
  },
  {
   "cell_type": "code",
   "execution_count": null,
   "metadata": {},
   "outputs": [],
   "source": []
  },
  {
   "cell_type": "code",
   "execution_count": null,
   "metadata": {},
   "outputs": [],
   "source": []
  },
  {
   "cell_type": "code",
   "execution_count": null,
   "metadata": {},
   "outputs": [],
   "source": []
  },
  {
   "cell_type": "code",
   "execution_count": null,
   "metadata": {},
   "outputs": [],
   "source": []
  },
  {
   "cell_type": "code",
   "execution_count": null,
   "metadata": {},
   "outputs": [],
   "source": []
  },
  {
   "cell_type": "code",
   "execution_count": null,
   "metadata": {},
   "outputs": [],
   "source": []
  },
  {
   "cell_type": "code",
   "execution_count": null,
   "metadata": {},
   "outputs": [],
   "source": []
  },
  {
   "cell_type": "code",
   "execution_count": null,
   "metadata": {},
   "outputs": [],
   "source": []
  },
  {
   "cell_type": "code",
   "execution_count": null,
   "metadata": {},
   "outputs": [],
   "source": []
  },
  {
   "cell_type": "code",
   "execution_count": null,
   "metadata": {},
   "outputs": [],
   "source": []
  },
  {
   "cell_type": "code",
   "execution_count": null,
   "metadata": {},
   "outputs": [],
   "source": []
  },
  {
   "cell_type": "code",
   "execution_count": null,
   "metadata": {},
   "outputs": [],
   "source": []
  },
  {
   "cell_type": "code",
   "execution_count": null,
   "metadata": {},
   "outputs": [],
   "source": []
  },
  {
   "cell_type": "code",
   "execution_count": null,
   "metadata": {},
   "outputs": [],
   "source": []
  },
  {
   "cell_type": "code",
   "execution_count": null,
   "metadata": {},
   "outputs": [],
   "source": []
  },
  {
   "cell_type": "code",
   "execution_count": null,
   "metadata": {},
   "outputs": [],
   "source": []
  },
  {
   "cell_type": "code",
   "execution_count": null,
   "metadata": {},
   "outputs": [],
   "source": []
  },
  {
   "cell_type": "code",
   "execution_count": null,
   "metadata": {},
   "outputs": [],
   "source": []
  },
  {
   "cell_type": "code",
   "execution_count": null,
   "metadata": {},
   "outputs": [],
   "source": []
  },
  {
   "cell_type": "code",
   "execution_count": null,
   "metadata": {},
   "outputs": [],
   "source": []
  },
  {
   "cell_type": "code",
   "execution_count": null,
   "metadata": {},
   "outputs": [],
   "source": []
  },
  {
   "cell_type": "code",
   "execution_count": null,
   "metadata": {},
   "outputs": [],
   "source": []
  },
  {
   "cell_type": "code",
   "execution_count": null,
   "metadata": {},
   "outputs": [],
   "source": []
  },
  {
   "cell_type": "code",
   "execution_count": null,
   "metadata": {},
   "outputs": [],
   "source": []
  },
  {
   "cell_type": "code",
   "execution_count": null,
   "metadata": {},
   "outputs": [],
   "source": []
  },
  {
   "cell_type": "code",
   "execution_count": null,
   "metadata": {},
   "outputs": [],
   "source": []
  },
  {
   "cell_type": "code",
   "execution_count": null,
   "metadata": {},
   "outputs": [],
   "source": []
  }
 ],
 "metadata": {
  "kernelspec": {
   "display_name": "Python 3",
   "language": "python",
   "name": "python3"
  },
  "language_info": {
   "codemirror_mode": {
    "name": "ipython",
    "version": 3
   },
   "file_extension": ".py",
   "mimetype": "text/x-python",
   "name": "python",
   "nbconvert_exporter": "python",
   "pygments_lexer": "ipython3",
   "version": "3.8.5"
  }
 },
 "nbformat": 4,
 "nbformat_minor": 4
}
