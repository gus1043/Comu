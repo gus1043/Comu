{
 "cells": [
  {
   "cell_type": "code",
   "execution_count": 3,
   "metadata": {},
   "outputs": [
    {
     "name": "stdout",
     "output_type": "stream",
     "text": [
      "div class=\"nums\">\r\n",
      "\t\t\t\t\t\t<div class=\"num win\">\r\n",
      "\t\t\t\t\t\t\t<strong>당첨번호</strong>\r\n",
      "\t\t\t\t\t\t\t<p>\r\n",
      "\t\t\t\t\t\t\t\t<span class=\"ball_645 lrg ball2\">13</span>\r\n",
      "\t\t\t\t\t\t\t\t<span class=\"ball_645 lrg ball2\">17</span>\r\n",
      "\t\t\t\t\t\t\t\t<span class=\"ball_645 lrg ball2\">18</span>\r\n",
      "\t\t\t\t\t\t\t\t<span class=\"ball_645 lrg ball2\">20</span>\r\n",
      "\t\t\t\t\t\t\t\t<span class=\"ball_645 lrg ball5\">42</span>\r\n",
      "\t\t\t\t\t\t\t\t<span class=\"ball_645 lrg ball5\">45</span>\r\n",
      "\t\t\t\t\t\t\t</p>\r\n",
      "\t\t\t\t\t\t</div>\r\n",
      "\t\t\t\t\t\t<div class=\"num bonus\">\r\n",
      "\t\t\t\t\t\t\t<strong>보너스</strong>\r\n",
      "\t\t\t\t\t\t\t<p><span class=\"ball_645 lrg ball5\">41</span></p>\r\n",
      "\t\t\t\t\t\t</div>\r\n",
      "\t\t\t\t\t</div>\r\n",
      "\t\t\t\t\n"
     ]
    }
   ],
   "source": [
    "import requests\n",
    "\n",
    "URL = 'https://dhlottery.co.kr/gameResult.do?method=byWin'\n",
    "raw = requests.get(URL)\n",
    "target = 'div class=\"nums\">'\n",
    "\n",
    "if target in raw.text:\n",
    "    idx = raw.text.index(target)\n",
    "    print(raw.text[idx:idx+578])"
   ]
  },
  {
   "cell_type": "code",
   "execution_count": 7,
   "metadata": {},
   "outputs": [
    {
     "name": "stdout",
     "output_type": "stream",
     "text": [
      "<div class=\"nums\">\n",
      "<div class=\"num win\">\n",
      "<strong>당첨번호</strong>\n",
      "<p>\n",
      "<span class=\"ball_645 lrg ball2\">13</span>\n",
      "<span class=\"ball_645 lrg ball2\">17</span>\n",
      "<span class=\"ball_645 lrg ball2\">18</span>\n",
      "<span class=\"ball_645 lrg ball2\">20</span>\n",
      "<span class=\"ball_645 lrg ball5\">42</span>\n",
      "<span class=\"ball_645 lrg ball5\">45</span>\n",
      "</p>\n",
      "</div>\n",
      "<div class=\"num bonus\">\n",
      "<strong>보너스</strong>\n",
      "<p><span class=\"ball_645 lrg ball5\">41</span></p>\n",
      "</div>\n",
      "</div>\n"
     ]
    }
   ],
   "source": [
    "import requests\n",
    "import bs4\n",
    "\n",
    "URL = 'https://dhlottery.co.kr/gameResult.do?method=byWin'\n",
    "raw = requests.get(URL)\n",
    "\n",
    "html = bs4.BeautifulSoup(raw.text, 'html.parser')\n",
    "\n",
    "target = html.find('div', {'class' : 'nums'})\n",
    "\n",
    "print(target)\n"
   ]
  },
  {
   "cell_type": "code",
   "execution_count": 8,
   "metadata": {},
   "outputs": [
    {
     "name": "stdout",
     "output_type": "stream",
     "text": [
      "<span class=\"ball_645 lrg ball2\">13</span>\n",
      "<span class=\"ball_645 lrg ball2\">17</span>\n",
      "<span class=\"ball_645 lrg ball2\">18</span>\n",
      "<span class=\"ball_645 lrg ball2\">20</span>\n",
      "<span class=\"ball_645 lrg ball5\">42</span>\n",
      "<span class=\"ball_645 lrg ball5\">45</span>\n",
      "<span class=\"ball_645 lrg ball5\">41</span>\n"
     ]
    }
   ],
   "source": [
    "import requests\n",
    "import bs4\n",
    "\n",
    "URL = 'https://dhlottery.co.kr/gameResult.do?method=byWin'\n",
    "raw = requests.get(URL)\n",
    "\n",
    "html = bs4.BeautifulSoup(raw.text, 'html.parser')\n",
    "\n",
    "target = html.find('div', {'class' : 'nums'})\n",
    "# print(target)\n",
    "balls = target.find_all(\"span\", {'class' : 'ball_645'})\n",
    "\n",
    "for ball in balls:\n",
    "    print(ball)"
   ]
  },
  {
   "cell_type": "code",
   "execution_count": 9,
   "metadata": {},
   "outputs": [
    {
     "name": "stdout",
     "output_type": "stream",
     "text": [
      "당첨번호 :  13\n",
      "당첨번호 :  17\n",
      "당첨번호 :  18\n",
      "당첨번호 :  20\n",
      "당첨번호 :  42\n",
      "당첨번호 :  45\n",
      "당첨번호 :  41\n"
     ]
    }
   ],
   "source": [
    "import requests\n",
    "import bs4\n",
    "\n",
    "URL = 'https://dhlottery.co.kr/gameResult.do?method=byWin'\n",
    "raw = requests.get(URL)\n",
    "\n",
    "html = bs4.BeautifulSoup(raw.text, 'html.parser')\n",
    "\n",
    "target = html.find('div', {'class' : 'nums'})\n",
    "# print(target)\n",
    "balls = target.find_all(\"span\", {'class' : 'ball_645'})\n",
    "\n",
    "for ball in balls:\n",
    "    print(\"당첨번호 : \", ball.text)"
   ]
  },
  {
   "cell_type": "code",
   "execution_count": 10,
   "metadata": {},
   "outputs": [
    {
     "name": "stdout",
     "output_type": "stream",
     "text": [
      "< 최근 로또 당첨 번호 >\n",
      "당첨번호 :  13\n",
      "당첨번호 :  17\n",
      "당첨번호 :  18\n",
      "당첨번호 :  20\n",
      "당첨번호 :  42\n",
      "당첨번호 :  45\n",
      "보너스 번호 :  41\n"
     ]
    }
   ],
   "source": [
    "import requests\n",
    "import bs4\n",
    "\n",
    "URL = 'https://dhlottery.co.kr/gameResult.do?method=byWin'\n",
    "raw = requests.get(URL)\n",
    "\n",
    "html = bs4.BeautifulSoup(raw.text, 'html.parser')\n",
    "\n",
    "target = html.find('div', {'class' : 'nums'})\n",
    "balls = target.find_all(\"span\", {'class' : 'ball_645'})\n",
    "\n",
    "print(\"< 최근 로또 당첨 번호 >\")\n",
    "for ball in balls[:-1]:\n",
    "    print(\"당첨번호 : \", ball.text)\n",
    "\n",
    "print(\"보너스 번호 : \", balls[-1].text)"
   ]
  },
  {
   "cell_type": "code",
   "execution_count": 26,
   "metadata": {},
   "outputs": [
    {
     "name": "stdout",
     "output_type": "stream",
     "text": [
      "< 호텔스 컴바인 인기 여행지 >\n",
      "여행지: 부산\n",
      "여행지: 서울\n",
      "여행지: 제주시\n",
      "여행지: 서귀포시\n",
      "여행지: 경주\n",
      "여행지: 강릉\n",
      "여행지: 여수\n",
      "여행지: 속초\n",
      "여행지: 인천\n",
      "여행지: 대구\n",
      "여행지: 거제\n",
      "여행지: 울산\n"
     ]
    }
   ],
   "source": [
    "import requests\n",
    "import bs4\n",
    "\n",
    "URL = 'https://www.hotelscombined.co.kr/'\n",
    "raw = requests.get(URL)\n",
    "\n",
    "html = bs4.BeautifulSoup(raw.text, 'html.parser')\n",
    "\n",
    "targets = html.find_all('h3', {'class' : 'cityName'})\n",
    "\n",
    "print(\"< 호텔스 컴바인 인기 여행지 >\")\n",
    "for target in targets:\n",
    "    print(\"여행지:\",target.text)\n"
   ]
  },
  {
   "cell_type": "code",
   "execution_count": null,
   "metadata": {},
   "outputs": [],
   "source": []
  }
 ],
 "metadata": {
  "kernelspec": {
   "display_name": "Python 3",
   "language": "python",
   "name": "python3"
  },
  "language_info": {
   "codemirror_mode": {
    "name": "ipython",
    "version": 3
   },
   "file_extension": ".py",
   "mimetype": "text/x-python",
   "name": "python",
   "nbconvert_exporter": "python",
   "pygments_lexer": "ipython3",
   "version": "3.8.5"
  }
 },
 "nbformat": 4,
 "nbformat_minor": 4
}
