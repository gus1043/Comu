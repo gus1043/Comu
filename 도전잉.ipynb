{
 "cells": [
  {
   "cell_type": "code",
   "execution_count": 2,
   "metadata": {},
   "outputs": [
    {
     "ename": "IndentationError",
     "evalue": "expected an indented block (<ipython-input-2-9e29380ea01b>, line 39)",
     "output_type": "error",
     "traceback": [
      "\u001b[1;36m  File \u001b[1;32m\"<ipython-input-2-9e29380ea01b>\"\u001b[1;36m, line \u001b[1;32m39\u001b[0m\n\u001b[1;33m    else:\u001b[0m\n\u001b[1;37m    ^\u001b[0m\n\u001b[1;31mIndentationError\u001b[0m\u001b[1;31m:\u001b[0m expected an indented block\n"
     ]
    }
   ],
   "source": [
    "def my_plus(x,y):\n",
    "    return x+y\n",
    "\n",
    "def my_minus(x,y):\n",
    "    return x-y\n",
    "\n",
    "def my_multiply(x,y):\n",
    "    return x*y\n",
    "\n",
    "def my_division(x,y):\n",
    "    return x/y\n",
    "\n",
    "def my_calculate (x,y,opcode='+'):\n",
    "    if (opcode=='-'):\n",
    "        return my_minus(x,y)\n",
    "    elif (opcode=='*'):\n",
    "        return my_multiply(x,y)\n",
    "    elif (opcode=='/'):\n",
    "        return my_division(x,y)\n",
    "    else:\n",
    "        return my_plus(x,y)\n",
    "#---------------------------------------------------------\n",
    "\n",
    "def isint(x):\n",
    "    for c in x:\n",
    "        if c in '0123456789':\n",
    "            isint==False\n",
    "        else:\n",
    "            isint==True\n",
    "            break\n",
    "        return my_calculation\n",
    "    \n",
    "def inputint(s):\n",
    "    while  inputint!=int:\n",
    "        x=input('Enter an integer:')\n",
    "        ans=isint(x) #ans-->True or False\n",
    "        if a==True:\n",
    "            \n",
    "        else:\n",
    "            print ('Wrong integer! Input the second integer again')\n",
    "    return x\n",
    "\n",
    "#-----------------------------------------------------------------\n",
    "\n",
    "def isOp(x):\n",
    "    for a in x :\n",
    "        if a in '+-*/':\n",
    "            isOp==False\n",
    "        else:\n",
    "            isOp==True\n",
    "            break\n",
    "        return my_calcuate\n",
    "    \n",
    "def inputOp():\n",
    "    while s==int :\n",
    "        x=input('Enter an integer:')\n",
    "        ans=isint(x) #ans-->True or False\n",
    "        if ans==True:\n",
    "            return inputOp\n",
    "        \n",
    "        else:\n",
    "            print ('Wrong operation! Input the operation again')\n",
    "    return inputOp\n",
    "\n",
    "#---------------------------------------------------------------   \n",
    "x=inputint('first')\n",
    "y=inputint('second')\n",
    "Op=inputOp()\n",
    "\n",
    "print(str(x)+Op+str(y), 'is' , my_calculate(x,y,Op))"
   ]
  },
  {
   "cell_type": "code",
   "execution_count": null,
   "metadata": {},
   "outputs": [],
   "source": []
  },
  {
   "cell_type": "code",
   "execution_count": null,
   "metadata": {},
   "outputs": [],
   "source": []
  }
 ],
 "metadata": {
  "kernelspec": {
   "display_name": "Python 3",
   "language": "python",
   "name": "python3"
  },
  "language_info": {
   "codemirror_mode": {
    "name": "ipython",
    "version": 3
   },
   "file_extension": ".py",
   "mimetype": "text/x-python",
   "name": "python",
   "nbconvert_exporter": "python",
   "pygments_lexer": "ipython3",
   "version": "3.8.5"
  }
 },
 "nbformat": 4,
 "nbformat_minor": 4
}
