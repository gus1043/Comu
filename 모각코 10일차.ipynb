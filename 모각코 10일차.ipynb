{
 "cells": [
  {
   "cell_type": "code",
   "execution_count": 63,
   "metadata": {},
   "outputs": [
    {
     "name": "stdout",
     "output_type": "stream",
     "text": [
      "초 단위의 시간을 입력해주세요: 8000000\n",
      "8000000초 = 2222시간 13분 20초\n"
     ]
    }
   ],
   "source": [
    "x=int(input(\"초 단위의 시간을 입력해주세요: \"))\n",
    "sec=x%60\n",
    "j=(x-sec)//60\n",
    "if j//60>=1:\n",
    "    hour=j//60\n",
    "    min=j%60\n",
    "if hour==0:\n",
    "    print(str(x)+\"초=\", str(min)+\"분\", str(sec)+\"초\")\n",
    "else:\n",
    "    print(str(x)+\"초 =\",str(hour)+\"시간\",str(min)+\"분\", str(sec)+\"초\")"
   ]
  },
  {
   "cell_type": "code",
   "execution_count": 80,
   "metadata": {},
   "outputs": [
    {
     "name": "stdout",
     "output_type": "stream",
     "text": [
      "1. 10초    2. 30초    3. 1분    4. 10분    5. 시작\n",
      "원하는 시간의 숫자 버튼을 입력해주세요:1\n",
      "0:10\n",
      "원하는 시간의 숫자 버튼을 입력해주세요:2\n",
      "0:40\n",
      "원하는 시간의 숫자 버튼을 입력해주세요:3\n",
      "1:40\n",
      "원하는 시간의 숫자 버튼을 입력해주세요:4\n",
      "11:40\n",
      "원하는 시간의 숫자 버튼을 입력해주세요:5\n",
      "\n",
      "전자레인지를 작동합니다.\n"
     ]
    }
   ],
   "source": [
    "print(\"1. 10초    2. 30초    3. 1분    4. 10분    5. 시작\")\n",
    "x=0\n",
    "y=0\n",
    "\n",
    "while 1:\n",
    "    but=input(\"원하는 시간의 숫자 버튼을 입력해주세요:\")\n",
    "    if but==\"5\":\n",
    "        print(\"\\n전자레인지를 작동합니다.\")\n",
    "        break\n",
    "    else:\n",
    "        if but==\"1\":\n",
    "            y+=10\n",
    "            if y//60>=1:\n",
    "                x+=1\n",
    "            print(str(x)+\":\"+str(y))\n",
    "        elif but==\"2\":\n",
    "            y+=30\n",
    "            if y//60>=1:\n",
    "                x+=1\n",
    "            print(str(x)+\":\"+str(y))\n",
    "        if but==\"3\":\n",
    "            x+=1\n",
    "            print(str(x)+\":\"+str(y))\n",
    "        if but==\"4\":\n",
    "            x+=10\n",
    "            print(str(x)+\":\"+str(y))"
   ]
  },
  {
   "cell_type": "code",
   "execution_count": null,
   "metadata": {},
   "outputs": [],
   "source": []
  },
  {
   "cell_type": "code",
   "execution_count": null,
   "metadata": {},
   "outputs": [],
   "source": []
  },
  {
   "cell_type": "code",
   "execution_count": null,
   "metadata": {},
   "outputs": [],
   "source": []
  }
 ],
 "metadata": {
  "kernelspec": {
   "display_name": "Python 3",
   "language": "python",
   "name": "python3"
  },
  "language_info": {
   "codemirror_mode": {
    "name": "ipython",
    "version": 3
   },
   "file_extension": ".py",
   "mimetype": "text/x-python",
   "name": "python",
   "nbconvert_exporter": "python",
   "pygments_lexer": "ipython3",
   "version": "3.8.5"
  }
 },
 "nbformat": 4,
 "nbformat_minor": 4
}
